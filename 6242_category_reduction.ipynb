{
 "cells": [
  {
   "cell_type": "code",
   "execution_count": 1,
   "metadata": {},
   "outputs": [],
   "source": [
    "import pandas as pd\n",
    "import numpy as np\n",
    "import sklearn\n",
    "from numpy import mean\n",
    "from numpy import std\n",
    "from sklearn.datasets import make_classification\n",
    "from sklearn.ensemble import GradientBoostingClassifier\n",
    "from sklearn.model_selection import cross_val_score\n",
    "from sklearn.model_selection import RepeatedStratifiedKFold\n",
    "from matplotlib import pyplot\n",
    "import catboost\n",
    "from catboost import CatBoostClassifier\n",
    "from sklearn.metrics import accuracy_score"
   ]
  },
  {
   "cell_type": "code",
   "execution_count": 2,
   "metadata": {},
   "outputs": [
    {
     "name": "stderr",
     "output_type": "stream",
     "text": [
      "/Users/hannahamilton/opt/anaconda3/lib/python3.7/site-packages/numpy/lib/arraysetops.py:568: FutureWarning: elementwise comparison failed; returning scalar instead, but in the future will perform elementwise comparison\n",
      "  mask |= (ar1 == a)\n"
     ]
    }
   ],
   "source": [
    "#read in data\n",
    "train = pd.read_csv('train.csv', encoding='latin-1', index_col=0)\n",
    "test = pd.read_csv('test.csv', encoding='latin-1', index_col=0)"
   ]
  },
  {
   "cell_type": "code",
   "execution_count": 9,
   "metadata": {},
   "outputs": [],
   "source": [
    "train.iloc[:548288,:].to_csv(\"train1.csv\")\n",
    "train.iloc[548288:1096576,:].to_csv(\"train2.csv\")\n",
    "train.iloc[1096576:1644864,:].to_csv(\"train3.csv\")\n",
    "train.iloc[1644864:2193152,:].to_csv(\"train4.csv\")\n",
    "test.to_csv(\"test.csv\")"
   ]
  },
  {
   "cell_type": "code",
   "execution_count": 7,
   "metadata": {},
   "outputs": [
    {
     "data": {
      "text/plain": [
       "(503469, 5)"
      ]
     },
     "execution_count": 7,
     "metadata": {},
     "output_type": "execute_result"
    }
   ],
   "source": [
    "test.shape"
   ]
  },
  {
   "cell_type": "code",
   "execution_count": 5,
   "metadata": {},
   "outputs": [],
   "source": [
    "x_train = train[[i for i in list(train.columns) if i != 'CERTIFIED']]\n",
    "y_train = train.CERTIFIED\n",
    "x_test = test[[i for i in list(test.columns) if i != 'CERTIFIED']]\n",
    "y_test = test.CERTIFIED"
   ]
  },
  {
   "cell_type": "code",
   "execution_count": 4,
   "metadata": {},
   "outputs": [
    {
     "data": {
      "text/plain": [
       "['NEW YORK',\n",
       " 'CALIFORNIA',\n",
       " 'OHIO',\n",
       " 'RHODE ISLAND',\n",
       " 'TEXAS',\n",
       " 'ALABAMA',\n",
       " 'MARYLAND',\n",
       " 'MISSOURI',\n",
       " 'NEVADA',\n",
       " 'ARKANSAS',\n",
       " 'SOUTH CAROLINA',\n",
       " 'WASHINGTON',\n",
       " 'NORTH CAROLINA',\n",
       " 'MINNESOTA',\n",
       " 'PENNSYLVANIA',\n",
       " 'VIRGINIA',\n",
       " 'LOUISIANA',\n",
       " 'ILLINOIS',\n",
       " 'COLORADO',\n",
       " 'GEORGIA',\n",
       " 'NEW JERSEY',\n",
       " 'FLORIDA',\n",
       " 'OKLAHOMA',\n",
       " 'KANSAS',\n",
       " 'INDIANA',\n",
       " 'MASSACHUSETTS',\n",
       " 'TENNESSEE',\n",
       " 'ARIZONA',\n",
       " 'ALASKA',\n",
       " 'WISCONSIN',\n",
       " 'MICHIGAN',\n",
       " 'CONNECTICUT',\n",
       " 'NORTH DAKOTA',\n",
       " 'DISTRICT OF COLUMBIA',\n",
       " 'MISSISSIPPI',\n",
       " 'KENTUCKY',\n",
       " 'NEW MEXICO',\n",
       " 'OREGON',\n",
       " 'NEBRASKA',\n",
       " 'UTAH',\n",
       " 'HAWAII',\n",
       " 'PUERTO RICO',\n",
       " 'MONTANA',\n",
       " 'IOWA',\n",
       " 'NEW HAMPSHIRE',\n",
       " 'WYOMING',\n",
       " 'VERMONT',\n",
       " 'WEST VIRGINIA',\n",
       " 'DELAWARE',\n",
       " 'IDAHO',\n",
       " 'SOUTH DAKOTA',\n",
       " 'MAINE']"
      ]
     },
     "execution_count": 4,
     "metadata": {},
     "output_type": "execute_result"
    }
   ],
   "source": [
    "list(train['STATE'].unique())"
   ]
  },
  {
   "cell_type": "code",
   "execution_count": 5,
   "metadata": {},
   "outputs": [
    {
     "data": {
      "text/plain": [
       "(2193152, 5)"
      ]
     },
     "execution_count": 5,
     "metadata": {},
     "output_type": "execute_result"
    }
   ],
   "source": [
    "train.shape"
   ]
  },
  {
   "cell_type": "code",
   "execution_count": 6,
   "metadata": {},
   "outputs": [
    {
     "data": {
      "text/plain": [
       "(503469, 5)"
      ]
     },
     "execution_count": 6,
     "metadata": {},
     "output_type": "execute_result"
    }
   ],
   "source": [
    "test.shape"
   ]
  },
  {
   "cell_type": "code",
   "execution_count": 5,
   "metadata": {},
   "outputs": [],
   "source": [
    "approval_rates_states = []\n",
    "#calculate approval rates for states\n",
    "for state in list(train['STATE'].unique()):\n",
    "    #get subset df\n",
    "    df = train[train['STATE']==state]\n",
    "    y = df['CERTIFIED']\n",
    "    #calculate approval rate\n",
    "    approval_rate_state = y.sum()/len(y)\n",
    "    approval_rates_states.append(approval_rate_state)"
   ]
  },
  {
   "cell_type": "code",
   "execution_count": 6,
   "metadata": {},
   "outputs": [
    {
     "data": {
      "text/plain": [
       "[0.9539990601503759,\n",
       " 0.9669024531010766,\n",
       " 0.9761758875473058,\n",
       " 0.9789578054423268,\n",
       " 0.969458038789197,\n",
       " 0.9506921760771504,\n",
       " 0.9606635700066357,\n",
       " 0.9775594321162413,\n",
       " 0.9107142857142857,\n",
       " 0.9803045500136774,\n",
       " 0.9568595616374812,\n",
       " 0.9800673707671657,\n",
       " 0.9776618097895353,\n",
       " 0.9767408095708229,\n",
       " 0.9754907938056334,\n",
       " 0.9680223858263004,\n",
       " 0.9451476793248945,\n",
       " 0.9745624114129477,\n",
       " 0.9642664509169363,\n",
       " 0.9732844352796847,\n",
       " 0.9767479759592194,\n",
       " 0.9449971865568572,\n",
       " 0.9574895878213414,\n",
       " 0.9711044520547946,\n",
       " 0.9703182228987299,\n",
       " 0.9675326238744162,\n",
       " 0.9674788300690945,\n",
       " 0.973358645783895,\n",
       " 0.8914634146341464,\n",
       " 0.9793264421473825,\n",
       " 0.9716614277844389,\n",
       " 0.9742721545335961,\n",
       " 0.9531486146095718,\n",
       " 0.9437151486988847,\n",
       " 0.945273631840796,\n",
       " 0.9693073893907806,\n",
       " 0.9458823529411765,\n",
       " 0.973610014661103,\n",
       " 0.9688965301656768,\n",
       " 0.9587088660658143,\n",
       " 0.8905540417801998,\n",
       " 0.8428927680798005,\n",
       " 0.9227642276422764,\n",
       " 0.9761820120867402,\n",
       " 0.9775363382763177,\n",
       " 0.8650306748466258,\n",
       " 0.9647177419354839,\n",
       " 0.9558423913043478,\n",
       " 0.97915398660986,\n",
       " 0.9572978648932446,\n",
       " 0.9588441330998249,\n",
       " 0.9731071576334299]"
      ]
     },
     "execution_count": 6,
     "metadata": {},
     "output_type": "execute_result"
    }
   ],
   "source": [
    "approval_rates_states"
   ]
  },
  {
   "cell_type": "code",
   "execution_count": 7,
   "metadata": {},
   "outputs": [],
   "source": [
    "approval_rates_soc_names = []\n",
    "#calculate approval rates for soc names\n",
    "for soc_name in list(train['SOC_NAME'].unique()):\n",
    "    #get subset df\n",
    "    df = train[train['SOC_NAME']==soc_name]\n",
    "    y = df['CERTIFIED']\n",
    "    #calculate approval rate\n",
    "    approval_rate_soc_name = y.sum()/len(y)\n",
    "    approval_rates_soc_names.append(approval_rate_soc_name)"
   ]
  },
  {
   "cell_type": "code",
   "execution_count": 8,
   "metadata": {},
   "outputs": [
    {
     "data": {
      "text/plain": [
       "[0.9276899761853215,\n",
       " 0.8193387398627573,\n",
       " 0.8881457564575646,\n",
       " 0.9106481481481481,\n",
       " 0.8879581151832461,\n",
       " 0.9631437637295582,\n",
       " 0.9615651844365841,\n",
       " 0.9049512532767813,\n",
       " 0.9531739209547174,\n",
       " 0.8571428571428571,\n",
       " 0.9147172046194848,\n",
       " 0.9783978397839784,\n",
       " 0.9821675614793616,\n",
       " 0.9823752056417749,\n",
       " 0.9853947201030865,\n",
       " 0.9656206924511473,\n",
       " 0.8931560807483998,\n",
       " 0.9342911153119092,\n",
       " 0.928486742832507,\n",
       " 0.9393752798925212,\n",
       " 0.9490131578947368,\n",
       " 0.9570802919708029,\n",
       " 0.832225063938619,\n",
       " 0.973316187108182,\n",
       " 0.9170483460559796,\n",
       " 0.9326264634415727,\n",
       " 0.9391338275458447,\n",
       " 0.8840423622329923,\n",
       " 0.8913716814159292,\n",
       " 0.9286150505530298,\n",
       " 0.9596051435251332,\n",
       " 1.0,\n",
       " 0.9759046306969944,\n",
       " 0.9755729094036164,\n",
       " 0.9719062784349408,\n",
       " 0.9726561187812826,\n",
       " 0.8967889908256881,\n",
       " 0.9664299960111687,\n",
       " 0.9410299003322259,\n",
       " 0.949349501073639,\n",
       " 0.9610713880376802,\n",
       " 0.962247355744057,\n",
       " 0.9652761317847831,\n",
       " 0.928796755295178,\n",
       " 0.947579566729072,\n",
       " 0.9541206457094308,\n",
       " 0.9049786628733997,\n",
       " 0.8379906852960746,\n",
       " 0.8690074274139096,\n",
       " 0.908957415565345,\n",
       " 0.9026540710751237,\n",
       " 0.8925348646431501,\n",
       " 0.8853011620686596,\n",
       " 0.90754945498587,\n",
       " 0.9375114924915722,\n",
       " 0.9490204123499846,\n",
       " 0.9584873471708842,\n",
       " 0.93909973521624,\n",
       " 0.6618444846292948,\n",
       " 0.8970331588132635,\n",
       " 0.9451070086587159,\n",
       " 0.9162494310423305,\n",
       " 0.9509783294761204,\n",
       " 0.8349447513812155,\n",
       " 0.8974151857835219,\n",
       " 0.9126637554585153,\n",
       " 0.9841846298031866,\n",
       " 0.9265436479772888,\n",
       " 0.8576214405360134]"
      ]
     },
     "execution_count": 8,
     "metadata": {},
     "output_type": "execute_result"
    }
   ],
   "source": [
    "approval_rates_soc_names"
   ]
  },
  {
   "cell_type": "code",
   "execution_count": 9,
   "metadata": {},
   "outputs": [],
   "source": [
    "rates_states = pd.DataFrame()\n",
    "rates_states['CATEGORY'] = list(train['STATE'].unique())\n",
    "rates_states['RATE'] = approval_rates_states\n",
    "rates_states.to_csv(\"rates_states.csv\")"
   ]
  },
  {
   "cell_type": "code",
   "execution_count": 10,
   "metadata": {},
   "outputs": [],
   "source": [
    "rates_soc_names = pd.DataFrame()\n",
    "rates_soc_names['CATEGORY'] = list(train['SOC_NAME'].unique())\n",
    "rates_soc_names['RATE'] = approval_rates_soc_names\n",
    "rates_soc_names.to_csv(\"rates_soc_names.csv\")"
   ]
  },
  {
   "cell_type": "code",
   "execution_count": 11,
   "metadata": {},
   "outputs": [],
   "source": [
    "#replace state names with categories\n",
    "states_group_1 = ['CALIFORNIA','OHIO','RHODE ISLAND','TEXAS','MISSOURI','ARKANSAS','WASHINGTON','NORTH CAROLINA','MINNESOTA','PENNSYLVANIA','VIRGINIA','ILLINOIS','GEORGIA','NEW JERSEY','KANSAS','INDIANA','MASSACHUSETTS','TENNESSEE','ARIZONA','WISCONSIN','MICHIGAN','CONNECTICUT','KENTUCKY','OREGON','NEBRASKA','IOWA','NEW HAMPSHIRE','DELAWARE','MAINE']\n",
    "states_group_2 = ['NEW YORK','ALABAMA','MARYLAND','NEVADA','SOUTH CAROLINA','LOUISIANA','COLORADO','FLORIDA','OKLAHOMA','ALASKA','NORTH DAKOTA','DISTRICT OF COLUMBIA','MISSISSIPPI','NEW MEXICO','UTAH','HAWAII','PUERTO RICO','MONTANA','WYOMING','VERMONT','WEST VIRGINIA','IDAHO','SOUTH DAKOTA']"
   ]
  },
  {
   "cell_type": "code",
   "execution_count": 12,
   "metadata": {},
   "outputs": [],
   "source": [
    "#replace soc_names with categories\n",
    "soc_names_group_1 = ['Commercial and Industrial Designers','Postsecondary Education Teachers','Computer Hardware Engineers','Computer Programmers','Other Computer Occupations','Computer Systems Analysts and Engineers','Computer and Information Systems Managers','Life, Physical, and Social Scientists and Technicians','Computer and Information Research Scientists','Industrial and Manufacturing Engineers and Industrial and Manufacturing Engineering Technicians','Accountants and Auditors','Data Scientists and Data Science Technicians','Network and Computer Systems Administrators','Statisticians, Statistical Assistants, and Other Mathematical Occupations','Operations Research Analysts','Electrical Engineers and Electrical Engineering Technicians','Materials Scientists and Materials Engineers','Mechanical Engineers and Mechanical Engineering Technicians','Medical Scientists, Technicians, and Assistants','Occupational Therapists and Assistants','Software Quality Assurance Engineers and Testers']\n",
    "soc_names_group_2 = ['Civil Engineers and Civil Engineering Technicians','Psychologists','Business Analysts','Other Artistic Workers','Sales and Related Workers','Other Health Professionals and Technicians','Primary and Secondary Education Teachers','Chemical Engineers','Marketing Managers','Financial Managers','Industrial Production Managers','Business Operations Specialists','Environmental Engineers and Environmental Engineering Technicians','Other Engineers and Engineering Technicians','Food Scientists and Food Science Technicians','Environmental Scientists and Environmental Technicians','Geologists, Geoscientists, and Geological Technicians','Fashion Designers','Dentists, Dental Assistants, Hygienists, and Laboratory Technicians','Physicians, Surgeons, Physician Assistants, and Surgical Assistants','Internists','Models','Pharmacists and Pharmacy Technicians','Purchasing Managers','Physical Therapists and Physical Therapist Assistants','Sales Managers','Special Education Teachers']\n",
    "soc_names_group_3 = ['Community and Social Service Specialists','Coaches and Scouts','Other Managers','Compliance Officers','Construction Managers','Other Teachers and Teacher Assistants','Medical and Health Services Managers','Architects and Architectural Drafters','Lawyers','Other Designers','Graphic Designers','Interior Designers','Media and Communication Workers','Architectural and Engineering Managers','Public Relations and Fundraising Managers','Veterinarians, Veterinary Assistants, Veterinary Technicians, Laboratory Animal Caretakers, and Animal Scientists']\n",
    "soc_names_group_4 = ['Other','Chief Executives','Paralegals and Legal Assistants','Office Clerks and Secretaries','Preschool Teachers']"
   ]
  },
  {
   "cell_type": "code",
   "execution_count": 13,
   "metadata": {},
   "outputs": [],
   "source": [
    "#transform train data\n",
    "#states\n",
    "train.replace(states_group_1, 'STATES_GROUP_1', inplace=True)\n",
    "train.replace(states_group_2, 'STATES_GROUP_2', inplace=True)\n",
    "\n",
    "#soc_names\n",
    "train.replace(soc_names_group_1, 'SOC_NAMES_GROUP_1', inplace=True)\n",
    "train.replace(soc_names_group_2, 'SOC_NAMES_GROUP_2', inplace=True)\n",
    "train.replace(soc_names_group_3, 'SOC_NAMES_GROUP_3', inplace=True)\n",
    "train.replace(soc_names_group_4, 'SOC_NAMES_GROUP_4', inplace=True)"
   ]
  },
  {
   "cell_type": "code",
   "execution_count": 14,
   "metadata": {},
   "outputs": [
    {
     "data": {
      "text/html": [
       "<div>\n",
       "<style scoped>\n",
       "    .dataframe tbody tr th:only-of-type {\n",
       "        vertical-align: middle;\n",
       "    }\n",
       "\n",
       "    .dataframe tbody tr th {\n",
       "        vertical-align: top;\n",
       "    }\n",
       "\n",
       "    .dataframe thead th {\n",
       "        text-align: right;\n",
       "    }\n",
       "</style>\n",
       "<table border=\"1\" class=\"dataframe\">\n",
       "  <thead>\n",
       "    <tr style=\"text-align: right;\">\n",
       "      <th></th>\n",
       "      <th>SOC_NAME</th>\n",
       "      <th>PREVAILING_WAGE</th>\n",
       "      <th>STATE</th>\n",
       "      <th>CERTIFIED</th>\n",
       "      <th>FULL_TIME</th>\n",
       "    </tr>\n",
       "  </thead>\n",
       "  <tbody>\n",
       "    <tr>\n",
       "      <td>1</td>\n",
       "      <td>SOC_NAMES_GROUP_2</td>\n",
       "      <td>61602.0</td>\n",
       "      <td>STATES_GROUP_2</td>\n",
       "      <td>1</td>\n",
       "      <td>1</td>\n",
       "    </tr>\n",
       "    <tr>\n",
       "      <td>2</td>\n",
       "      <td>SOC_NAMES_GROUP_2</td>\n",
       "      <td>64792.0</td>\n",
       "      <td>STATES_GROUP_1</td>\n",
       "      <td>1</td>\n",
       "      <td>1</td>\n",
       "    </tr>\n",
       "    <tr>\n",
       "      <td>3</td>\n",
       "      <td>SOC_NAMES_GROUP_2</td>\n",
       "      <td>55432.0</td>\n",
       "      <td>STATES_GROUP_1</td>\n",
       "      <td>1</td>\n",
       "      <td>0</td>\n",
       "    </tr>\n",
       "    <tr>\n",
       "      <td>4</td>\n",
       "      <td>SOC_NAMES_GROUP_2</td>\n",
       "      <td>62608.0</td>\n",
       "      <td>STATES_GROUP_1</td>\n",
       "      <td>1</td>\n",
       "      <td>0</td>\n",
       "    </tr>\n",
       "    <tr>\n",
       "      <td>5</td>\n",
       "      <td>SOC_NAMES_GROUP_2</td>\n",
       "      <td>61256.0</td>\n",
       "      <td>STATES_GROUP_1</td>\n",
       "      <td>1</td>\n",
       "      <td>1</td>\n",
       "    </tr>\n",
       "  </tbody>\n",
       "</table>\n",
       "</div>"
      ],
      "text/plain": [
       "            SOC_NAME  PREVAILING_WAGE           STATE  CERTIFIED  FULL_TIME\n",
       "1  SOC_NAMES_GROUP_2          61602.0  STATES_GROUP_2          1          1\n",
       "2  SOC_NAMES_GROUP_2          64792.0  STATES_GROUP_1          1          1\n",
       "3  SOC_NAMES_GROUP_2          55432.0  STATES_GROUP_1          1          0\n",
       "4  SOC_NAMES_GROUP_2          62608.0  STATES_GROUP_1          1          0\n",
       "5  SOC_NAMES_GROUP_2          61256.0  STATES_GROUP_1          1          1"
      ]
     },
     "execution_count": 14,
     "metadata": {},
     "output_type": "execute_result"
    }
   ],
   "source": [
    "train.head()"
   ]
  },
  {
   "cell_type": "code",
   "execution_count": 15,
   "metadata": {},
   "outputs": [],
   "source": [
    "#transform test data\n",
    "#states\n",
    "test.replace(states_group_1, 'STATES_GROUP_1', inplace=True)\n",
    "test.replace(states_group_2, 'STATES_GROUP_2', inplace=True)\n",
    "\n",
    "#soc_names\n",
    "test.replace(soc_names_group_1, 'SOC_NAMES_GROUP_1', inplace=True)\n",
    "test.replace(soc_names_group_2, 'SOC_NAMES_GROUP_2', inplace=True)\n",
    "test.replace(soc_names_group_3, 'SOC_NAMES_GROUP_3', inplace=True)\n",
    "test.replace(soc_names_group_4, 'SOC_NAMES_GROUP_4', inplace=True)"
   ]
  },
  {
   "cell_type": "code",
   "execution_count": 16,
   "metadata": {},
   "outputs": [
    {
     "data": {
      "text/html": [
       "<div>\n",
       "<style scoped>\n",
       "    .dataframe tbody tr th:only-of-type {\n",
       "        vertical-align: middle;\n",
       "    }\n",
       "\n",
       "    .dataframe tbody tr th {\n",
       "        vertical-align: top;\n",
       "    }\n",
       "\n",
       "    .dataframe thead th {\n",
       "        text-align: right;\n",
       "    }\n",
       "</style>\n",
       "<table border=\"1\" class=\"dataframe\">\n",
       "  <thead>\n",
       "    <tr style=\"text-align: right;\">\n",
       "      <th></th>\n",
       "      <th>SOC_NAME</th>\n",
       "      <th>PREVAILING_WAGE</th>\n",
       "      <th>STATE</th>\n",
       "      <th>CERTIFIED</th>\n",
       "      <th>FULL_TIME</th>\n",
       "    </tr>\n",
       "  </thead>\n",
       "  <tbody>\n",
       "    <tr>\n",
       "      <td>1</td>\n",
       "      <td>SOC_NAMES_GROUP_1</td>\n",
       "      <td>102149.0</td>\n",
       "      <td>STATES_GROUP_1</td>\n",
       "      <td>1</td>\n",
       "      <td>1</td>\n",
       "    </tr>\n",
       "    <tr>\n",
       "      <td>2</td>\n",
       "      <td>SOC_NAMES_GROUP_1</td>\n",
       "      <td>56784.0</td>\n",
       "      <td>STATES_GROUP_1</td>\n",
       "      <td>1</td>\n",
       "      <td>1</td>\n",
       "    </tr>\n",
       "    <tr>\n",
       "      <td>3</td>\n",
       "      <td>SOC_NAMES_GROUP_1</td>\n",
       "      <td>85197.0</td>\n",
       "      <td>STATES_GROUP_1</td>\n",
       "      <td>1</td>\n",
       "      <td>1</td>\n",
       "    </tr>\n",
       "    <tr>\n",
       "      <td>4</td>\n",
       "      <td>SOC_NAMES_GROUP_1</td>\n",
       "      <td>117770.0</td>\n",
       "      <td>STATES_GROUP_1</td>\n",
       "      <td>1</td>\n",
       "      <td>1</td>\n",
       "    </tr>\n",
       "    <tr>\n",
       "      <td>5</td>\n",
       "      <td>SOC_NAMES_GROUP_1</td>\n",
       "      <td>66414.0</td>\n",
       "      <td>STATES_GROUP_1</td>\n",
       "      <td>1</td>\n",
       "      <td>1</td>\n",
       "    </tr>\n",
       "  </tbody>\n",
       "</table>\n",
       "</div>"
      ],
      "text/plain": [
       "            SOC_NAME  PREVAILING_WAGE           STATE  CERTIFIED  FULL_TIME\n",
       "1  SOC_NAMES_GROUP_1         102149.0  STATES_GROUP_1          1          1\n",
       "2  SOC_NAMES_GROUP_1          56784.0  STATES_GROUP_1          1          1\n",
       "3  SOC_NAMES_GROUP_1          85197.0  STATES_GROUP_1          1          1\n",
       "4  SOC_NAMES_GROUP_1         117770.0  STATES_GROUP_1          1          1\n",
       "5  SOC_NAMES_GROUP_1          66414.0  STATES_GROUP_1          1          1"
      ]
     },
     "execution_count": 16,
     "metadata": {},
     "output_type": "execute_result"
    }
   ],
   "source": [
    "test.head()"
   ]
  },
  {
   "cell_type": "code",
   "execution_count": 17,
   "metadata": {},
   "outputs": [],
   "source": [
    "train.iloc[:548288,:].to_csv(\"train_categorized1.csv\")\n",
    "train.iloc[548288:1096576,:].to_csv(\"train_categorized2.csv\")\n",
    "train.iloc[1096576:1644864,:].to_csv(\"train_categorized3.csv\")\n",
    "train.iloc[1644864:2193152,:].to_csv(\"train_categorized4.csv\")\n",
    "test.to_csv(\"test_categorized.csv\")"
   ]
  },
  {
   "cell_type": "code",
   "execution_count": 18,
   "metadata": {},
   "outputs": [
    {
     "data": {
      "text/plain": [
       "(2193152, 5)"
      ]
     },
     "execution_count": 18,
     "metadata": {},
     "output_type": "execute_result"
    }
   ],
   "source": [
    "train.shape"
   ]
  },
  {
   "cell_type": "code",
   "execution_count": null,
   "metadata": {},
   "outputs": [],
   "source": []
  }
 ],
 "metadata": {
  "kernelspec": {
   "display_name": "Python 3",
   "language": "python",
   "name": "python3"
  },
  "language_info": {
   "codemirror_mode": {
    "name": "ipython",
    "version": 3
   },
   "file_extension": ".py",
   "mimetype": "text/x-python",
   "name": "python",
   "nbconvert_exporter": "python",
   "pygments_lexer": "ipython3",
   "version": "3.6.10"
  }
 },
 "nbformat": 4,
 "nbformat_minor": 2
}
